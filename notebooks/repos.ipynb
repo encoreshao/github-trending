{
 "cells": [
  {
   "cell_type": "code",
   "execution_count": 7,
   "metadata": {},
   "outputs": [],
   "source": [
    "# !pip install pandas\n",
    "# !pip install numpy\n",
    "# !pip install matplotlib\n",
    "# !pip install seaborn\n",
    "# !pip install plotly"
   ]
  },
  {
   "cell_type": "code",
   "execution_count": 8,
   "metadata": {},
   "outputs": [],
   "source": [
    "import pandas as pd"
   ]
  },
  {
   "cell_type": "code",
   "execution_count": 9,
   "metadata": {},
   "outputs": [],
   "source": [
    "import glob\n",
    "\n",
    "# load all csv files from docs folder\n",
    "files = glob.glob(\"../docs/*.csv\")\n",
    "\n",
    "# read all csv files\n",
    "df = pd.concat(map(pd.read_csv, files), ignore_index=True)"
   ]
  },
  {
   "cell_type": "code",
   "execution_count": 10,
   "metadata": {},
   "outputs": [
    {
     "data": {
      "text/plain": [
       "(2080, 21)"
      ]
     },
     "execution_count": 10,
     "metadata": {},
     "output_type": "execute_result"
    }
   ],
   "source": [
    "df.shape"
   ]
  },
  {
   "cell_type": "code",
   "execution_count": 11,
   "metadata": {},
   "outputs": [
    {
     "data": {
      "text/html": [
       "<div>\n",
       "<style scoped>\n",
       "    .dataframe tbody tr th:only-of-type {\n",
       "        vertical-align: middle;\n",
       "    }\n",
       "\n",
       "    .dataframe tbody tr th {\n",
       "        vertical-align: top;\n",
       "    }\n",
       "\n",
       "    .dataframe thead th {\n",
       "        text-align: right;\n",
       "    }\n",
       "</style>\n",
       "<table border=\"1\" class=\"dataframe\">\n",
       "  <thead>\n",
       "    <tr style=\"text-align: right;\">\n",
       "      <th></th>\n",
       "      <th>full_name</th>\n",
       "      <th>stargazers_count</th>\n",
       "      <th>owner.login</th>\n",
       "      <th>owner.avatar_url</th>\n",
       "      <th>description</th>\n",
       "      <th>topics</th>\n",
       "      <th>html_url</th>\n",
       "      <th>created_at</th>\n",
       "      <th>updated_at</th>\n",
       "      <th>pushed_at</th>\n",
       "      <th>...</th>\n",
       "      <th>ssh_url</th>\n",
       "      <th>clone_url</th>\n",
       "      <th>svn_url</th>\n",
       "      <th>homepage</th>\n",
       "      <th>size</th>\n",
       "      <th>language</th>\n",
       "      <th>forks_count</th>\n",
       "      <th>open_issues_count</th>\n",
       "      <th>default_branch</th>\n",
       "      <th>license.name</th>\n",
       "    </tr>\n",
       "  </thead>\n",
       "  <tbody>\n",
       "    <tr>\n",
       "      <th>1348</th>\n",
       "      <td>JaredC01/LabStack</td>\n",
       "      <td>414</td>\n",
       "      <td>JaredC01</td>\n",
       "      <td>https://avatars.githubusercontent.com/u/314579...</td>\n",
       "      <td>Modular rackmount solutions for Raspberry Pi's...</td>\n",
       "      <td>[]</td>\n",
       "      <td>https://github.com/JaredC01/LabStack</td>\n",
       "      <td>2025-01-17T02:26:00Z</td>\n",
       "      <td>2025-01-24T02:26:29Z</td>\n",
       "      <td>2025-01-21T02:56:47Z</td>\n",
       "      <td>...</td>\n",
       "      <td>git@github.com:JaredC01/LabStack.git</td>\n",
       "      <td>https://github.com/JaredC01/LabStack.git</td>\n",
       "      <td>https://github.com/JaredC01/LabStack</td>\n",
       "      <td>NaN</td>\n",
       "      <td>50725</td>\n",
       "      <td>NaN</td>\n",
       "      <td>10</td>\n",
       "      <td>17</td>\n",
       "      <td>main</td>\n",
       "      <td>GNU General Public License v3.0</td>\n",
       "    </tr>\n",
       "  </tbody>\n",
       "</table>\n",
       "<p>1 rows × 21 columns</p>\n",
       "</div>"
      ],
      "text/plain": [
       "              full_name  stargazers_count owner.login  \\\n",
       "1348  JaredC01/LabStack               414    JaredC01   \n",
       "\n",
       "                                       owner.avatar_url  \\\n",
       "1348  https://avatars.githubusercontent.com/u/314579...   \n",
       "\n",
       "                                            description topics  \\\n",
       "1348  Modular rackmount solutions for Raspberry Pi's...     []   \n",
       "\n",
       "                                  html_url            created_at  \\\n",
       "1348  https://github.com/JaredC01/LabStack  2025-01-17T02:26:00Z   \n",
       "\n",
       "                updated_at             pushed_at  ...  \\\n",
       "1348  2025-01-24T02:26:29Z  2025-01-21T02:56:47Z  ...   \n",
       "\n",
       "                                   ssh_url  \\\n",
       "1348  git@github.com:JaredC01/LabStack.git   \n",
       "\n",
       "                                     clone_url  \\\n",
       "1348  https://github.com/JaredC01/LabStack.git   \n",
       "\n",
       "                                   svn_url homepage   size  language  \\\n",
       "1348  https://github.com/JaredC01/LabStack      NaN  50725       NaN   \n",
       "\n",
       "     forks_count  open_issues_count  default_branch  \\\n",
       "1348          10                 17            main   \n",
       "\n",
       "                         license.name  \n",
       "1348  GNU General Public License v3.0  \n",
       "\n",
       "[1 rows x 21 columns]"
      ]
     },
     "execution_count": 11,
     "metadata": {},
     "output_type": "execute_result"
    }
   ],
   "source": [
    "df.sample(1)"
   ]
  },
  {
   "cell_type": "code",
   "execution_count": 12,
   "metadata": {},
   "outputs": [
    {
     "data": {
      "text/plain": [
       "1239"
      ]
     },
     "execution_count": 12,
     "metadata": {},
     "output_type": "execute_result"
    }
   ],
   "source": [
    "df.full_name.nunique()"
   ]
  },
  {
   "cell_type": "code",
   "execution_count": 14,
   "metadata": {},
   "outputs": [
    {
     "data": {
      "text/plain": [
       "Index(['full_name', 'stargazers_count', 'owner.login', 'owner.avatar_url',\n",
       "       'description', 'topics', 'html_url', 'created_at', 'updated_at',\n",
       "       'pushed_at', 'git_url', 'ssh_url', 'clone_url', 'svn_url', 'homepage',\n",
       "       'size', 'language', 'forks_count', 'open_issues_count',\n",
       "       'default_branch', 'license.name'],\n",
       "      dtype='object')"
      ]
     },
     "execution_count": 14,
     "metadata": {},
     "output_type": "execute_result"
    }
   ],
   "source": [
    "df.columns"
   ]
  },
  {
   "cell_type": "code",
   "execution_count": 16,
   "metadata": {},
   "outputs": [
    {
     "name": "stdout",
     "output_type": "stream",
     "text": [
      "2080\n"
     ]
    }
   ],
   "source": [
    "print(len(df))"
   ]
  },
  {
   "cell_type": "code",
   "execution_count": 17,
   "metadata": {},
   "outputs": [
    {
     "data": {
      "text/plain": [
       "full_name                                 doanthienminh1083/ShadowTool\n",
       "stargazers_count                                                  1397\n",
       "owner.login                                          doanthienminh1083\n",
       "owner.avatar_url     https://avatars.githubusercontent.com/u/289143...\n",
       "description          This script is designed to automatically gener...\n",
       "topics               [\"brute-force-tool\",\"brute-tool\",\"python\",\"tro...\n",
       "html_url               https://github.com/doanthienminh1083/ShadowTool\n",
       "created_at                                        2024-10-31T19:07:52Z\n",
       "updated_at                                        2024-11-01T22:31:48Z\n",
       "pushed_at                                         2024-11-01T16:17:20Z\n",
       "git_url              git://github.com/doanthienminh1083/ShadowTool.git\n",
       "ssh_url                git@github.com:doanthienminh1083/ShadowTool.git\n",
       "clone_url            https://github.com/doanthienminh1083/ShadowToo...\n",
       "svn_url                https://github.com/doanthienminh1083/ShadowTool\n",
       "homepage                                                           NaN\n",
       "size                                                                 3\n",
       "language                                                           NaN\n",
       "forks_count                                                          0\n",
       "open_issues_count                                                    0\n",
       "default_branch                                                    main\n",
       "license.name                                               MIT License\n",
       "Name: 0, dtype: object"
      ]
     },
     "execution_count": 17,
     "metadata": {},
     "output_type": "execute_result"
    }
   ],
   "source": [
    "df.iloc[0]"
   ]
  }
 ],
 "metadata": {
  "kernelspec": {
   "display_name": "3.12.4",
   "language": "python",
   "name": "python3"
  },
  "language_info": {
   "codemirror_mode": {
    "name": "ipython",
    "version": 3
   },
   "file_extension": ".py",
   "mimetype": "text/x-python",
   "name": "python",
   "nbconvert_exporter": "python",
   "pygments_lexer": "ipython3",
   "version": "3.12.4"
  }
 },
 "nbformat": 4,
 "nbformat_minor": 2
}
