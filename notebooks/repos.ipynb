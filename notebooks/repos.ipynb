{
 "cells": [
  {
   "cell_type": "code",
   "execution_count": null,
   "metadata": {},
   "outputs": [
    {
     "ename": "",
     "evalue": "",
     "output_type": "error",
     "traceback": [
      "\u001b[1;31mRunning cells with 'github-trending (Python 3.9.18)' requires the ipykernel package.\n",
      "\u001b[1;31mRun the following command to install 'ipykernel' into the Python environment. \n",
      "\u001b[1;31mCommand: '/Users/encore/.pyenv/versions/3.9.18/envs/github-trending/bin/python -m pip install ipykernel -U --force-reinstall'"
     ]
    }
   ],
   "source": [
    "!pip install pandas\n",
    "!pip install numpy\n",
    "!pip install matplotlib\n",
    "!pip install seaborn\n",
    "!pip install plotly"
   ]
  },
  {
   "cell_type": "code",
   "execution_count": 4,
   "metadata": {},
   "outputs": [],
   "source": [
    "import pandas as pd"
   ]
  },
  {
   "cell_type": "code",
   "execution_count": 8,
   "metadata": {},
   "outputs": [],
   "source": [
    "import glob\n",
    "\n",
    "# load all csv files from docs folder\n",
    "files = glob.glob(\"../docs/*.csv\")\n",
    "\n",
    "# read all csv files\n",
    "df = pd.concat(map(pd.read_csv, files), ignore_index=True)"
   ]
  },
  {
   "cell_type": "code",
   "execution_count": 10,
   "metadata": {},
   "outputs": [
    {
     "data": {
      "text/plain": [
       "(1800, 21)"
      ]
     },
     "execution_count": 10,
     "metadata": {},
     "output_type": "execute_result"
    }
   ],
   "source": [
    "df.shape"
   ]
  },
  {
   "cell_type": "code",
   "execution_count": 12,
   "metadata": {},
   "outputs": [
    {
     "data": {
      "text/html": [
       "<div>\n",
       "<style scoped>\n",
       "    .dataframe tbody tr th:only-of-type {\n",
       "        vertical-align: middle;\n",
       "    }\n",
       "\n",
       "    .dataframe tbody tr th {\n",
       "        vertical-align: top;\n",
       "    }\n",
       "\n",
       "    .dataframe thead th {\n",
       "        text-align: right;\n",
       "    }\n",
       "</style>\n",
       "<table border=\"1\" class=\"dataframe\">\n",
       "  <thead>\n",
       "    <tr style=\"text-align: right;\">\n",
       "      <th></th>\n",
       "      <th>full_name</th>\n",
       "      <th>stargazers_count</th>\n",
       "      <th>owner.login</th>\n",
       "      <th>owner.avatar_url</th>\n",
       "      <th>description</th>\n",
       "      <th>topics</th>\n",
       "      <th>html_url</th>\n",
       "      <th>created_at</th>\n",
       "      <th>updated_at</th>\n",
       "      <th>pushed_at</th>\n",
       "      <th>...</th>\n",
       "      <th>ssh_url</th>\n",
       "      <th>clone_url</th>\n",
       "      <th>svn_url</th>\n",
       "      <th>homepage</th>\n",
       "      <th>size</th>\n",
       "      <th>language</th>\n",
       "      <th>forks_count</th>\n",
       "      <th>open_issues_count</th>\n",
       "      <th>default_branch</th>\n",
       "      <th>license.name</th>\n",
       "    </tr>\n",
       "  </thead>\n",
       "  <tbody>\n",
       "    <tr>\n",
       "      <th>116</th>\n",
       "      <td>gittakeover0x01/Limecoin-Autoclicker</td>\n",
       "      <td>522</td>\n",
       "      <td>gittakeover0x01</td>\n",
       "      <td>https://avatars.githubusercontent.com/u/169428...</td>\n",
       "      <td>NaN</td>\n",
       "      <td>[\"limecoin\",\"limecoin-auto\",\"limecoin-auto-bot...</td>\n",
       "      <td>https://github.com/gittakeover0x01/Limecoin-Au...</td>\n",
       "      <td>2024-08-18T22:41:54Z</td>\n",
       "      <td>2024-08-20T20:21:32Z</td>\n",
       "      <td>2024-08-18T22:43:50Z</td>\n",
       "      <td>...</td>\n",
       "      <td>git@github.com:gittakeover0x01/Limecoin-Autocl...</td>\n",
       "      <td>https://github.com/gittakeover0x01/Limecoin-Au...</td>\n",
       "      <td>https://github.com/gittakeover0x01/Limecoin-Au...</td>\n",
       "      <td>NaN</td>\n",
       "      <td>2</td>\n",
       "      <td>NaN</td>\n",
       "      <td>0</td>\n",
       "      <td>0</td>\n",
       "      <td>main</td>\n",
       "      <td>NaN</td>\n",
       "    </tr>\n",
       "  </tbody>\n",
       "</table>\n",
       "<p>1 rows × 21 columns</p>\n",
       "</div>"
      ],
      "text/plain": [
       "                                full_name  stargazers_count      owner.login  \\\n",
       "116  gittakeover0x01/Limecoin-Autoclicker               522  gittakeover0x01   \n",
       "\n",
       "                                      owner.avatar_url description  \\\n",
       "116  https://avatars.githubusercontent.com/u/169428...         NaN   \n",
       "\n",
       "                                                topics  \\\n",
       "116  [\"limecoin\",\"limecoin-auto\",\"limecoin-auto-bot...   \n",
       "\n",
       "                                              html_url            created_at  \\\n",
       "116  https://github.com/gittakeover0x01/Limecoin-Au...  2024-08-18T22:41:54Z   \n",
       "\n",
       "               updated_at             pushed_at  ...  \\\n",
       "116  2024-08-20T20:21:32Z  2024-08-18T22:43:50Z  ...   \n",
       "\n",
       "                                               ssh_url  \\\n",
       "116  git@github.com:gittakeover0x01/Limecoin-Autocl...   \n",
       "\n",
       "                                             clone_url  \\\n",
       "116  https://github.com/gittakeover0x01/Limecoin-Au...   \n",
       "\n",
       "                                               svn_url homepage size  \\\n",
       "116  https://github.com/gittakeover0x01/Limecoin-Au...      NaN    2   \n",
       "\n",
       "     language forks_count  open_issues_count  default_branch license.name  \n",
       "116       NaN           0                  0            main          NaN  \n",
       "\n",
       "[1 rows x 21 columns]"
      ]
     },
     "execution_count": 12,
     "metadata": {},
     "output_type": "execute_result"
    }
   ],
   "source": [
    "df.sample(1)"
   ]
  },
  {
   "cell_type": "code",
   "execution_count": 13,
   "metadata": {},
   "outputs": [
    {
     "data": {
      "text/plain": [
       "1138"
      ]
     },
     "execution_count": 13,
     "metadata": {},
     "output_type": "execute_result"
    }
   ],
   "source": [
    "df.full_name.nunique()"
   ]
  }
 ],
 "metadata": {
  "kernelspec": {
   "display_name": "3.12.4",
   "language": "python",
   "name": "python3"
  },
  "language_info": {
   "codemirror_mode": {
    "name": "ipython",
    "version": 3
   },
   "file_extension": ".py",
   "mimetype": "text/x-python",
   "name": "python",
   "nbconvert_exporter": "python",
   "pygments_lexer": "ipython3",
   "version": "3.9.18"
  }
 },
 "nbformat": 4,
 "nbformat_minor": 2
}
